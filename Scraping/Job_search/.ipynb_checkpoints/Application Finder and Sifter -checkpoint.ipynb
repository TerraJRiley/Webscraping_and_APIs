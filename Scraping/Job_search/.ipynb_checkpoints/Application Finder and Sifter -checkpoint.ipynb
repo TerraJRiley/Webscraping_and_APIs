{
 "cells": [
  {
   "cell_type": "markdown",
   "metadata": {},
   "source": [
    "## Problem Statement/Goal\n",
    "\n",
    "Just how automated and easy can I make my job search?  As an individual who needs to work part time while looking for work, it's important that I releave some fo the stress and busy work of looking for a job. "
   ]
  },
  {
   "cell_type": "markdown",
   "metadata": {},
   "source": [
    "## Imports"
   ]
  },
  {
   "cell_type": "code",
   "execution_count": 3,
   "metadata": {},
   "outputs": [],
   "source": [
    "import pandas as pd\n",
    "import matplotlib as plt\n",
    "import seaborn as sns\n",
    "import numpy as np\n",
    "%matplotlib inline\n",
    "from selenium import webdriver\n",
    "import selenium\n",
    "import requests\n",
    "from bs4 import BeautifulSoup\n",
    "import re"
   ]
  },
  {
   "cell_type": "markdown",
   "metadata": {},
   "source": [
    "# Trying out Google searching code on Craigslist"
   ]
  },
  {
   "cell_type": "code",
   "execution_count": 10,
   "metadata": {
    "collapsed": true
   },
   "outputs": [
    {
     "ename": "NameError",
     "evalue": "name 'searchterm' is not defined",
     "output_type": "error",
     "traceback": [
      "\u001b[0;31m---------------------------------------------------------------------------\u001b[0m",
      "\u001b[0;31mNameError\u001b[0m                                 Traceback (most recent call last)",
      "\u001b[0;32m<ipython-input-10-2d81bc350b24>\u001b[0m in \u001b[0;36m<module>\u001b[0;34m()\u001b[0m\n\u001b[1;32m      1\u001b[0m \u001b[0mbrowser\u001b[0m \u001b[0;34m=\u001b[0m \u001b[0mwebdriver\u001b[0m\u001b[0;34m.\u001b[0m\u001b[0mChrome\u001b[0m\u001b[0;34m(\u001b[0m\u001b[0;34m'../Garage/chromedriver'\u001b[0m\u001b[0;34m)\u001b[0m                     \u001b[0;31m# Launches Browser\u001b[0m\u001b[0;34m\u001b[0m\u001b[0m\n\u001b[1;32m      2\u001b[0m \u001b[0;34m\u001b[0m\u001b[0m\n\u001b[0;32m----> 3\u001b[0;31m \u001b[0;32mfor\u001b[0m \u001b[0mterm\u001b[0m \u001b[0;32min\u001b[0m \u001b[0msearchterm\u001b[0m\u001b[0;34m:\u001b[0m\u001b[0;34m\u001b[0m\u001b[0m\n\u001b[0m\u001b[1;32m      4\u001b[0m     \u001b[0mbrowser\u001b[0m\u001b[0;34m.\u001b[0m\u001b[0mget\u001b[0m\u001b[0;34m(\u001b[0m\u001b[0;34m'https://sfbay.craigslist.org/d/software-qa-dba-etc/search/sof'\u001b[0m\u001b[0;34m)\u001b[0m\u001b[0;31m# Get Search page of Craigslist\u001b[0m\u001b[0;34m\u001b[0m\u001b[0m\n\u001b[1;32m      5\u001b[0m     \u001b[0msearch\u001b[0m \u001b[0;34m=\u001b[0m \u001b[0mbrowser\u001b[0m\u001b[0;34m.\u001b[0m\u001b[0mfind_element_by_id\u001b[0m\u001b[0;34m(\u001b[0m\u001b[0;34m\"query\"\u001b[0m\u001b[0;34m)\u001b[0m                                \u001b[0;31m# Locate searchbar\u001b[0m\u001b[0;34m\u001b[0m\u001b[0m\n",
      "\u001b[0;31mNameError\u001b[0m: name 'searchterm' is not defined"
     ]
    }
   ],
   "source": [
    "browser = webdriver.Chrome('../Garage/chromedriver')                     # Launches Browser\n",
    "\n",
    "for term in searchterm:\n",
    "    browser.get('https://sfbay.craigslist.org/d/software-qa-dba-etc/search/sof')# Get Search page of Craigslist\n",
    "    search = browser.find_element_by_id(\"query\")                                # Locate searchbar\n",
    "    search.send_keys('data')                                                    # Input search\n",
    "    search.submit() \n"
   ]
  },
  {
   "cell_type": "code",
   "execution_count": null,
   "metadata": {},
   "outputs": [],
   "source": [
    "def search(url, ):\n",
    "    browser.get('https://sfbay.craigslist.org/d/software-qa-dba-etc/search/sof')# Get Search page of Craigslist\n",
    "    search = browser.find_element_by_id(\"query\")                                # Locate searchbar\n",
    "    search.send_keys(term)                                                      # Input search\n",
    "    search.submit() \n",
    "    results = browser.find_elements_by_class_name('result-title')               # List of results"
   ]
  },
  {
   "cell_type": "code",
   "execution_count": 18,
   "metadata": {},
   "outputs": [],
   "source": [
    "search_terms = ['data', 'analyst', 'data scientist']\n",
    "list_of_dicts = []\n",
    "obtained_posts = []\n",
    "all_raw_info = []\n",
    "\n",
    "browser = webdriver.Chrome('../Garage/chromedriver')                     # Launches Browser\n",
    "for term in search_terms:\n",
    "    browser.get('https://sfbay.craigslist.org/d/software-qa-dba-etc/search/sof')# Get Search page of Craigslist\n",
    "    search = browser.find_element_by_id(\"query\")                                # Locate searchbar\n",
    "    search.send_keys(term)                                                      # Input search\n",
    "    search.submit() \n",
    "    results = browser.find_elements_by_class_name('result-title')               # List of results\n",
    "    for i in range(len(results)):                                               # for # of pages in list\n",
    "        results[i].click()                                                      # Click on Title i\n",
    "        post_HTML = browser.page_source\n",
    "        body_text = browser.find_element_by_id('postingbody').text\n",
    "        coordinates = re.findall('itude=\"[-0-9.]+\"', post_HTML)\n",
    "        post_code = re.findall('\\/[0-9]+\\.html', post_HTML)[0][1:-5]\n",
    "        if post_code not in obtained_posts:\n",
    "            post_dict = {\n",
    "                \"title\"     : browser.find_element_by_id('titletextonly').text,\n",
    "                \"body_text\" : body_text,\n",
    "                \"link\"      : re.findall('https[-A-za-z:\\/.0-9?=&;]+', body_text),\n",
    "                \"tags\"      : browser.find_element_by_class_name('attrgroup').text,\n",
    "                \"post_code\" : post_code\n",
    "            }\n",
    "            try:\n",
    "                post_dict[\"latitude\"]  = coordinates[0][7:-1]\n",
    "                post_dict[\"longitude\"] = coordinates[1][7:-1]\n",
    "            except:\n",
    "                pass\n",
    "            obtained_posts.append(post_dict['post_code'])\n",
    "            all_raw_info.append(post_HTML)\n",
    "            list_of_dicts.append(post_dict)\n",
    "        browser.back()                                            # Back\n",
    "        results = browser.find_elements_by_class_name('result-title')\n",
    "\n",
    "craigslist_df = pd.DataFrame(list_of_dicts, columns = [\n",
    "            \"title\", \"body_text\", \"tags\", \"link\",\n",
    "            \"latitude\", \"longitude\", \"post_code\"])"
   ]
  },
  {
   "cell_type": "code",
   "execution_count": 19,
   "metadata": {},
   "outputs": [
    {
     "data": {
      "text/plain": [
       "(108, 7)"
      ]
     },
     "execution_count": 19,
     "metadata": {},
     "output_type": "execute_result"
    }
   ],
   "source": [
    "craigslist_df.shape"
   ]
  },
  {
   "cell_type": "code",
   "execution_count": 23,
   "metadata": {},
   "outputs": [],
   "source": [
    "#craigslist_df['tags']\n",
    "#craigslist_df['tags'].map(lambda x: x.split('\\n')[0] for )\n",
    "def tag_column(row):\n",
    "    listed = row.split('\\n')\n",
    "    return listed[0].replace('compensation: ', '')\n",
    "craigslist_df['salary'] = craigslist_df['tags'].map(lambda x: tag_column(x))"
   ]
  },
  {
   "cell_type": "code",
   "execution_count": 24,
   "metadata": {},
   "outputs": [],
   "source": [
    "def tag_column(row):\n",
    "    listed = row.split('\\n')\n",
    "    if listed[1][0:15] == 'employment type':\n",
    "        return listed[1][17:]\n",
    "    else:\n",
    "        return 'UNLISTED'\n",
    "    #return listed[1][17:]#.replace('compensation: ', '')\n",
    "craigslist_df['time'] = craigslist_df['tags'].map(lambda x: tag_column(x))"
   ]
  },
  {
   "cell_type": "code",
   "execution_count": 26,
   "metadata": {},
   "outputs": [],
   "source": [
    "def tag_column(row):\n",
    "    listed = row.split('\\n')\n",
    "    if len(listed) == 3:\n",
    "        if listed[2] == 'telecommuting okay':\n",
    "            return 1\n",
    "    else:\n",
    "        return 0\n",
    "    #return listed[1][17:]#.replace('compensation: ', '')\n",
    "craigslist_df['remote_available'] = craigslist_df['tags'].map(lambda x: tag_column(x))"
   ]
  },
  {
   "cell_type": "code",
   "execution_count": 27,
   "metadata": {
    "scrolled": true
   },
   "outputs": [],
   "source": [
    "def tag_column(row):\n",
    "    listed_tags = row.split('\\n')\n",
    "    if len(listed_tags) == 3:\n",
    "        if listed_tags[2] == 'non-profit organization':\n",
    "            return 1\n",
    "    else:\n",
    "        return 0\n",
    "craigslist_df['non_profit'] = craigslist_df['tags'].map(lambda x: tag_column(x))"
   ]
  },
  {
   "cell_type": "code",
   "execution_count": 33,
   "metadata": {
    "scrolled": true
   },
   "outputs": [
    {
     "data": {
      "text/plain": [
       "DOE                                                                          26\n",
       "80,000-160,000                                                               20\n",
       "23/hr                                                                        20\n",
       "Competitive                                                                   4\n",
       "Will discuss with applicant.                                                  3\n",
       "Depending on Experience                                                       2\n",
       "DOE (Medical, Dental, Vision, 401k, PTO)                                      2\n",
       "hourly pay of $30 - $40, depending on experience                              2\n",
       "Hourly Rate                                                                   2\n",
       "Based on experience                                                           2\n",
       "varies                                                                        1\n",
       "$26 - $30 per hour                                                            1\n",
       "Please respond with a resume, short cover letter, and your desired salary     1\n",
       "Hourly rate                                                                   1\n",
       "130,000 - 175,000                                                             1\n",
       "$100k+ salary + vacation/sick/medical/dental + monthly commuter stipend       1\n",
       "market standard                                                               1\n",
       "50                                                                            1\n",
       "Salary, Stock Options, Healthcare and Benefits                                1\n",
       "Market Competitive                                                            1\n",
       "depends on experience                                                         1\n",
       "Base + Performance based Incentive + Generous Stock Options                   1\n",
       "100k-160k                                                                     1\n",
       "150k-175/ salary plus early stage equity                                      1\n",
       "Competitive market compensation with equity                                   1\n",
       "$29/hour plus benefits                                                        1\n",
       "Salary + Benefits                                                             1\n",
       "$32 - $35 per hour                                                            1\n",
       "150-180k, benefits, startup equity                                            1\n",
       "D.O.E.                                                                        1\n",
       "Available upon request                                                        1\n",
       "competitive                                                                   1\n",
       "150K to 175K with 5-15% bonus on top                                          1\n",
       "$114,432 - $139,104 Annually                                                  1\n",
       "Please refer to job posting                                                   1\n",
       "Name: salary, dtype: int64"
      ]
     },
     "execution_count": 33,
     "metadata": {},
     "output_type": "execute_result"
    }
   ],
   "source": [
    "craigslist_df['salary'].value_counts()"
   ]
  },
  {
   "cell_type": "code",
   "execution_count": null,
   "metadata": {},
   "outputs": [],
   "source": [
    "salary_dict = {\n",
    "    \"Will discuss with applicant.\" : \"DOE\",\n",
    "    'Depending on Experience'      : \"DOE\",\n",
    "    'Based on experience'          : \"DOE\",\n",
    "    'D.O.E.'                       : \"DOE\",\n",
    "    \"depends on experience\"        : \"DOE\",\n",
    "    'DOE (Medical, Dental, Vision, 401k, PTO)' : \"DOE + Benefits\"\n",
    "    'Will discuss with applicant.' :\"Unspecified\",\n",
    "    'varies'\n",
    "    \"Hourly Rate\" : \"Unspecified Hourly\"\n",
    "    'Hourly rate' : \"Unspecified Hourly\"\n",
    "    'competitive' : \"Unspecified\"\n",
    "    \n",
    "}\n",
    "\n",
    "\n",
    "# \"Refused to specify\" is worded strongly because I hypothesize that this category \n",
    "# might get a red flag for people who I might not want to work for.  There are a lot of \n",
    "# Arguments about breaking down the social phopaws about how we hide our salary information \n",
    "# and how doing so benefits advantagious companies and does a great disservice to helping \n",
    "# bridge the pay gap between race/gender/etc.\n",
    "\n",
    "\n",
    "# Psudocode for making this easier:\n",
    "# Create table of just 2 columns, one for the things people put and the other for what it should be translated to.\n",
    "# Have the function go through each entry in the scrape and compair it to the first column.\n",
    "# If not in 1st column then it asks us which category to put it in.\n",
    "# If it's a specified number then have that be it's own special option that'll fill in another column."
   ]
  },
  {
   "cell_type": "code",
   "execution_count": 28,
   "metadata": {},
   "outputs": [
    {
     "data": {
      "text/html": [
       "<div>\n",
       "<style scoped>\n",
       "    .dataframe tbody tr th:only-of-type {\n",
       "        vertical-align: middle;\n",
       "    }\n",
       "\n",
       "    .dataframe tbody tr th {\n",
       "        vertical-align: top;\n",
       "    }\n",
       "\n",
       "    .dataframe thead th {\n",
       "        text-align: right;\n",
       "    }\n",
       "</style>\n",
       "<table border=\"1\" class=\"dataframe\">\n",
       "  <thead>\n",
       "    <tr style=\"text-align: right;\">\n",
       "      <th></th>\n",
       "      <th>title</th>\n",
       "      <th>body_text</th>\n",
       "      <th>tags</th>\n",
       "      <th>link</th>\n",
       "      <th>latitude</th>\n",
       "      <th>longitude</th>\n",
       "      <th>post_code</th>\n",
       "      <th>salary</th>\n",
       "      <th>time</th>\n",
       "      <th>remote_available</th>\n",
       "      <th>non_profit</th>\n",
       "    </tr>\n",
       "  </thead>\n",
       "  <tbody>\n",
       "    <tr>\n",
       "      <th>0</th>\n",
       "      <td>Senior Software Engineer (Data Warehouse Archi...</td>\n",
       "      <td>East Bay Municipal Utility District (EBMUD) in...</td>\n",
       "      <td>compensation: $114,432 - $139,104 Annually\\nem...</td>\n",
       "      <td>[]</td>\n",
       "      <td>37.795723</td>\n",
       "      <td>-122.257376</td>\n",
       "      <td>6764531895</td>\n",
       "      <td>$114,432 - $139,104 Annually</td>\n",
       "      <td>full-time</td>\n",
       "      <td>0.0</td>\n",
       "      <td>0.0</td>\n",
       "    </tr>\n",
       "    <tr>\n",
       "      <th>1</th>\n",
       "      <td>Data Science Fellowship</td>\n",
       "      <td>What is Pathrise\\nPathrise (YC W18) invests in...</td>\n",
       "      <td>compensation: 80,000-160,000\\nemployment type:...</td>\n",
       "      <td>[https://www.pathrise.com/?utm_source=CLSFData...</td>\n",
       "      <td>37.791500</td>\n",
       "      <td>-122.401800</td>\n",
       "      <td>6763971146</td>\n",
       "      <td>80,000-160,000</td>\n",
       "      <td>full-time</td>\n",
       "      <td>1.0</td>\n",
       "      <td>NaN</td>\n",
       "    </tr>\n",
       "    <tr>\n",
       "      <th>2</th>\n",
       "      <td>Sales Data Analyst</td>\n",
       "      <td>AssetMark\\nSales Data Analyst\\nJob Label: ASMK...</td>\n",
       "      <td>compensation: DOE\\nemployment type: full-time</td>\n",
       "      <td>[https://hiring.accolo.com/jobs/Concord/Califo...</td>\n",
       "      <td>38.034903</td>\n",
       "      <td>-122.026918</td>\n",
       "      <td>6763769675</td>\n",
       "      <td>DOE</td>\n",
       "      <td>full-time</td>\n",
       "      <td>0.0</td>\n",
       "      <td>0.0</td>\n",
       "    </tr>\n",
       "    <tr>\n",
       "      <th>3</th>\n",
       "      <td>Python Programmer &amp; Data Analyst Administrator</td>\n",
       "      <td>Nordic Naturals\\nPython Programmer &amp; Data Anal...</td>\n",
       "      <td>compensation: DOE\\nemployment type: full-time</td>\n",
       "      <td>[https://app.hiremojo.com/jobs/Watsonville/Cal...</td>\n",
       "      <td>36.919956</td>\n",
       "      <td>-121.742343</td>\n",
       "      <td>6760663335</td>\n",
       "      <td>DOE</td>\n",
       "      <td>full-time</td>\n",
       "      <td>0.0</td>\n",
       "      <td>0.0</td>\n",
       "    </tr>\n",
       "    <tr>\n",
       "      <th>4</th>\n",
       "      <td>Data Infrastructure Engineer</td>\n",
       "      <td>Our Culture\\n\\n\\n\\nThe San Francisco Chronicle...</td>\n",
       "      <td>compensation: 150-180k, benefits, startup equi...</td>\n",
       "      <td>[]</td>\n",
       "      <td>37.786400</td>\n",
       "      <td>-122.389200</td>\n",
       "      <td>6759380827</td>\n",
       "      <td>150-180k, benefits, startup equity</td>\n",
       "      <td>full-time</td>\n",
       "      <td>0.0</td>\n",
       "      <td>0.0</td>\n",
       "    </tr>\n",
       "  </tbody>\n",
       "</table>\n",
       "</div>"
      ],
      "text/plain": [
       "                                               title  \\\n",
       "0  Senior Software Engineer (Data Warehouse Archi...   \n",
       "1                            Data Science Fellowship   \n",
       "2                                 Sales Data Analyst   \n",
       "3     Python Programmer & Data Analyst Administrator   \n",
       "4                       Data Infrastructure Engineer   \n",
       "\n",
       "                                           body_text  \\\n",
       "0  East Bay Municipal Utility District (EBMUD) in...   \n",
       "1  What is Pathrise\\nPathrise (YC W18) invests in...   \n",
       "2  AssetMark\\nSales Data Analyst\\nJob Label: ASMK...   \n",
       "3  Nordic Naturals\\nPython Programmer & Data Anal...   \n",
       "4  Our Culture\\n\\n\\n\\nThe San Francisco Chronicle...   \n",
       "\n",
       "                                                tags  \\\n",
       "0  compensation: $114,432 - $139,104 Annually\\nem...   \n",
       "1  compensation: 80,000-160,000\\nemployment type:...   \n",
       "2      compensation: DOE\\nemployment type: full-time   \n",
       "3      compensation: DOE\\nemployment type: full-time   \n",
       "4  compensation: 150-180k, benefits, startup equi...   \n",
       "\n",
       "                                                link   latitude    longitude  \\\n",
       "0                                                 []  37.795723  -122.257376   \n",
       "1  [https://www.pathrise.com/?utm_source=CLSFData...  37.791500  -122.401800   \n",
       "2  [https://hiring.accolo.com/jobs/Concord/Califo...  38.034903  -122.026918   \n",
       "3  [https://app.hiremojo.com/jobs/Watsonville/Cal...  36.919956  -121.742343   \n",
       "4                                                 []  37.786400  -122.389200   \n",
       "\n",
       "    post_code                              salary       time  \\\n",
       "0  6764531895        $114,432 - $139,104 Annually  full-time   \n",
       "1  6763971146                      80,000-160,000  full-time   \n",
       "2  6763769675                                 DOE  full-time   \n",
       "3  6760663335                                 DOE  full-time   \n",
       "4  6759380827  150-180k, benefits, startup equity  full-time   \n",
       "\n",
       "   remote_available  non_profit  \n",
       "0               0.0         0.0  \n",
       "1               1.0         NaN  \n",
       "2               0.0         0.0  \n",
       "3               0.0         0.0  \n",
       "4               0.0         0.0  "
      ]
     },
     "execution_count": 28,
     "metadata": {},
     "output_type": "execute_result"
    }
   ],
   "source": [
    "craigslist_df.head()"
   ]
  },
  {
   "cell_type": "code",
   "execution_count": 29,
   "metadata": {
    "scrolled": true
   },
   "outputs": [
    {
     "name": "stdout",
     "output_type": "stream",
     "text": [
      "remote available\n",
      "remote available\n",
      "remote available\n",
      "remote available\n",
      "remote available\n",
      "non-profit\n",
      "remote available\n",
      "remote available\n",
      "non-profit\n",
      "non-profit\n",
      "remote available\n",
      "remote available\n",
      "remote available\n",
      "remote available\n",
      "remote available\n",
      "remote available\n",
      "remote available\n",
      "remote available\n",
      "remote available\n",
      "remote available\n",
      "remote available\n",
      "remote available\n",
      "remote available\n",
      "remote available\n",
      "remote available\n"
     ]
    }
   ],
   "source": [
    "for row in craigslist_df['tags']:\n",
    "    listed_tags = row.split('\\n')\n",
    "    if len(listed_tags) == 3:\n",
    "        if listed_tags[2] == 'telecommuting okay':\n",
    "            print('remote available')\n",
    "        if listed_tags[2] == 'non-profit organization':\n",
    "            print('non-profit')\n",
    "    elif len(listed_tags) > 3:\n",
    "        print('many tags')\n",
    "        "
   ]
  },
  {
   "cell_type": "code",
   "execution_count": 59,
   "metadata": {},
   "outputs": [
    {
     "data": {
      "text/html": [
       "<div>\n",
       "<style scoped>\n",
       "    .dataframe tbody tr th:only-of-type {\n",
       "        vertical-align: middle;\n",
       "    }\n",
       "\n",
       "    .dataframe tbody tr th {\n",
       "        vertical-align: top;\n",
       "    }\n",
       "\n",
       "    .dataframe thead th {\n",
       "        text-align: right;\n",
       "    }\n",
       "</style>\n",
       "<table border=\"1\" class=\"dataframe\">\n",
       "  <thead>\n",
       "    <tr style=\"text-align: right;\">\n",
       "      <th></th>\n",
       "      <th>title</th>\n",
       "      <th>body_text</th>\n",
       "      <th>tags</th>\n",
       "      <th>link</th>\n",
       "      <th>latitude</th>\n",
       "      <th>longitude</th>\n",
       "      <th>post_code</th>\n",
       "      <th>salary</th>\n",
       "      <th>time</th>\n",
       "    </tr>\n",
       "  </thead>\n",
       "  <tbody>\n",
       "    <tr>\n",
       "      <th>0</th>\n",
       "      <td>Python Programmer &amp; Data Analyst Administrator</td>\n",
       "      <td>Nordic Naturals\\nPython Programmer &amp; Data Anal...</td>\n",
       "      <td>compensation: DOE\\nemployment type: full-time</td>\n",
       "      <td>[https://app.hiremojo.com/jobs/Watsonville/Cal...</td>\n",
       "      <td>36.919956</td>\n",
       "      <td>-121.742343</td>\n",
       "      <td>6760663335</td>\n",
       "      <td>DOE</td>\n",
       "      <td>full-time</td>\n",
       "    </tr>\n",
       "    <tr>\n",
       "      <th>1</th>\n",
       "      <td>Data Infrastructure Engineer</td>\n",
       "      <td>Our Culture\\n\\n\\n\\nThe San Francisco Chronicle...</td>\n",
       "      <td>compensation: 150-180k, benefits, startup equi...</td>\n",
       "      <td>[]</td>\n",
       "      <td>37.786400</td>\n",
       "      <td>-122.389200</td>\n",
       "      <td>6759380827</td>\n",
       "      <td>150-180k, benefits, startup equity</td>\n",
       "      <td>full-time</td>\n",
       "    </tr>\n",
       "    <tr>\n",
       "      <th>2</th>\n",
       "      <td>Data Science Fellowship</td>\n",
       "      <td>What is Pathrise\\nPathrise (YC W18) invests in...</td>\n",
       "      <td>compensation: 80,000-160,000\\nemployment type:...</td>\n",
       "      <td>[https://www.pathrise.com/?utm_source=CLSFData...</td>\n",
       "      <td>37.791500</td>\n",
       "      <td>-122.401800</td>\n",
       "      <td>6758179207</td>\n",
       "      <td>80,000-160,000</td>\n",
       "      <td>full-time</td>\n",
       "    </tr>\n",
       "    <tr>\n",
       "      <th>3</th>\n",
       "      <td>Big Data Engineer</td>\n",
       "      <td>Develop a highly scalable, reliable, and real-...</td>\n",
       "      <td>compensation: DOE\\nemployment type: full-time</td>\n",
       "      <td>[]</td>\n",
       "      <td>37.762100</td>\n",
       "      <td>-122.397100</td>\n",
       "      <td>6757863516</td>\n",
       "      <td>DOE</td>\n",
       "      <td>full-time</td>\n",
       "    </tr>\n",
       "    <tr>\n",
       "      <th>4</th>\n",
       "      <td>Tutor wanted, teach data science, python and S...</td>\n",
       "      <td>Tutor wanted, for a student pursuing master de...</td>\n",
       "      <td>compensation: 50\\nemployment type: employee's ...</td>\n",
       "      <td>[]</td>\n",
       "      <td>37.348300</td>\n",
       "      <td>-121.984400</td>\n",
       "      <td>6757296715</td>\n",
       "      <td>50</td>\n",
       "      <td>employee's choice</td>\n",
       "    </tr>\n",
       "  </tbody>\n",
       "</table>\n",
       "</div>"
      ],
      "text/plain": [
       "                                               title  \\\n",
       "0     Python Programmer & Data Analyst Administrator   \n",
       "1                       Data Infrastructure Engineer   \n",
       "2                            Data Science Fellowship   \n",
       "3                                  Big Data Engineer   \n",
       "4  Tutor wanted, teach data science, python and S...   \n",
       "\n",
       "                                           body_text  \\\n",
       "0  Nordic Naturals\\nPython Programmer & Data Anal...   \n",
       "1  Our Culture\\n\\n\\n\\nThe San Francisco Chronicle...   \n",
       "2  What is Pathrise\\nPathrise (YC W18) invests in...   \n",
       "3  Develop a highly scalable, reliable, and real-...   \n",
       "4  Tutor wanted, for a student pursuing master de...   \n",
       "\n",
       "                                                tags  \\\n",
       "0      compensation: DOE\\nemployment type: full-time   \n",
       "1  compensation: 150-180k, benefits, startup equi...   \n",
       "2  compensation: 80,000-160,000\\nemployment type:...   \n",
       "3      compensation: DOE\\nemployment type: full-time   \n",
       "4  compensation: 50\\nemployment type: employee's ...   \n",
       "\n",
       "                                                link   latitude    longitude  \\\n",
       "0  [https://app.hiremojo.com/jobs/Watsonville/Cal...  36.919956  -121.742343   \n",
       "1                                                 []  37.786400  -122.389200   \n",
       "2  [https://www.pathrise.com/?utm_source=CLSFData...  37.791500  -122.401800   \n",
       "3                                                 []  37.762100  -122.397100   \n",
       "4                                                 []  37.348300  -121.984400   \n",
       "\n",
       "    post_code                              salary               time  \n",
       "0  6760663335                                 DOE          full-time  \n",
       "1  6759380827  150-180k, benefits, startup equity          full-time  \n",
       "2  6758179207                      80,000-160,000          full-time  \n",
       "3  6757863516                                 DOE          full-time  \n",
       "4  6757296715                                  50  employee's choice  "
      ]
     },
     "execution_count": 59,
     "metadata": {},
     "output_type": "execute_result"
    }
   ],
   "source": [
    "craigslist_df.head()"
   ]
  },
  {
   "cell_type": "code",
   "execution_count": 51,
   "metadata": {
    "collapsed": true
   },
   "outputs": [
    {
     "name": "stdout",
     "output_type": "stream",
     "text": [
      "['https://app.hiremojo.com/jobs/Watsonville/California/Python_Full_Stack_Developer/464189487/job.htm?sourceType=9']\n",
      "[]\n",
      "['https://www.pathrise.com/?utm_source=CLSFData&utm_campaign=CLSFData&utm_medium=web']\n",
      "[]\n",
      "[]\n",
      "['https://www.pathrise.com/?utm_source=CLSFData&utm_campaign=CLSFData&utm_medium=web']\n",
      "['https://www.hireart.com/jobs/043306b7/apply', 'https://www.hireart.com/jobs/043306b7/apply', 'https://www.hireart.com/jobs/043306b7/apply']\n",
      "[]\n",
      "[]\n",
      "['https://www.pathrise.com/?utm_source=CLSFData&utm_campaign=CLSFData&utm_medium=web']\n",
      "['https://jobs.lever.co/nava/18efd1a1-d10e-4b80-9913-2e73fa642fdc/apply', 'https://jobs.lever.co/nava/18efd1a1-d10e-4b80-9913-2e73fa642fdc/apply']\n",
      "['https://asianart.snaphire.com/?job=11577CRG']\n",
      "[]\n",
      "['https://www.pathrise.com/?utm_source=CLSFData&utm_campaign=CLSFData&utm_medium=web']\n",
      "['https://www.hireart.com/jobs/11dba112/apply', 'https://www.hireart.com/jobs/11dba112/apply', 'https://www.hireart.com/jobs/11dba112/apply']\n",
      "[]\n",
      "[]\n",
      "['https://hiring.accolo.com/jobs/San_Jose/California/Senior_Software_Engineer/459765479/job.htm?sourceType=9']\n",
      "['https://www.innovint.us/', 'https://www.capterra.com/p/144038/InnoVint/']\n",
      "[]\n",
      "[]\n",
      "[]\n",
      "[]\n",
      "[]\n",
      "[]\n",
      "['https://jobs.ourcareerpages.com/job/388041?source=craigslist&key=oPWkcKnb']\n",
      "['https://jobs.ourcareerpages.com/job/388041?source=craigslist&key=oPWkcKnb']\n",
      "[]\n",
      "[]\n",
      "[]\n",
      "[]\n",
      "[]\n",
      "['https://www.pathrise.com/?utm_source=CLSFProduct&utm_campaign=CLSFProduct&utm_medium=web']\n",
      "['https://www.pathrise.com/?utm_source=CLSFSWE&utm_campaign=CLSFSWE&utm_medium=web']\n",
      "[]\n",
      "['https://wsgr.wd1.myworkdayjobs.com/en-US/WSGR/job/Palo-Alto/Senior-Software-Developer_R192']\n",
      "[]\n",
      "['https://www.pathrise.com/?utm_source=CLSFProduct&utm_campaign=CLSFProduct&utm_medium=web']\n",
      "['https://www.pathrise.com/?utm_source=CLSFSWE&utm_campaign=CLSFSWE&utm_medium=web']\n",
      "[]\n",
      "[]\n",
      "[]\n",
      "[]\n",
      "[]\n",
      "[]\n",
      "[]\n",
      "[]\n",
      "[]\n",
      "[]\n",
      "[]\n",
      "['https://www.pathrise.com/?utm_source=CLSFProduct&utm_campaign=CLSFProduct&utm_medium=web']\n",
      "['https://www.pathrise.com/?utm_source=CLSFSWE&utm_campaign=CLSFSWE&utm_medium=web']\n",
      "[]\n",
      "[]\n",
      "[]\n",
      "['https://recruit.zoho.com/recruit/Apply.na?digest=i6PU.vuz.5ozWV0os.9MdUi71ywPpENiz1c6h9Zs09A-&embedsource=Embed']\n",
      "[]\n",
      "['https://www.paycomonline.net/v4/ats/web.php/jobs/ViewJobDetails?job=5683&clientkey=4D4FD0CCF62EE221C2C35081F2D3F958']\n",
      "[]\n",
      "[]\n",
      "[]\n",
      "['https://hire.withgoogle.com/public/jobs/infostarllccom/view/P_AAAAAAEAAKbEE10BDsonQB?trackingTag=craigslist']\n",
      "[]\n",
      "['https://www.surveymonkey.com/r/5LMQFH5']\n",
      "['https://www.beautylish.com/jobs?gh_jid=849521&gh_src=uxe7hn1']\n",
      "[]\n",
      "[]\n",
      "[]\n",
      "[]\n",
      "[]\n",
      "['https://www.pathrise.com/?utm_source=CLSFProduct&utm_campaign=CLSFProduct&utm_medium=web']\n",
      "['https://www.hireart.com/jobs/b49ca9c9/apply', 'https://www.hireart.com/jobs/b49ca9c9/apply', 'https://www.hireart.com/jobs/b49ca9c9/apply']\n",
      "['https://www.pathrise.com/?utm_source=CLSFSWE&utm_campaign=CLSFSWE&utm_medium=web']\n",
      "[]\n",
      "[]\n",
      "[]\n",
      "[]\n",
      "[]\n",
      "[]\n",
      "[]\n",
      "[]\n",
      "[]\n",
      "[]\n",
      "['https://cubic.wd1.myworkdayjobs.com/cubic_USA_careers/job/USA-Concord-CA/Customer-Relationship-Management--CRM--Administrator_REQ_14619', 'https://cubic.wd1.myworkdayjobs.com/cubic_USA_careers/job/USA-Concord-CA/Customer-Relationship-Management--CRM--Administrator_REQ_14619']\n",
      "[]\n",
      "[]\n",
      "['https://career4.successfactors.com/sfcareer/jobreqcareer?jobId=455&company=tfewines&username=']\n",
      "['https://career4.successfactors.com/sfcareer/jobreqcareer?jobId=455&company=tfewines&username=']\n",
      "['https://www.pathrise.com/?utm_source=CLSACSWE&utm_campaign=CLSACSWE&utm_medium=web']\n",
      "['https://career4.successfactors.com/sfcareer/jobreqcareer?jobId=455&company=tfewines&username=']\n",
      "['https://www.pathrise.com/?utm_source=CLSACSWE&utm_campaign=CLSACSWE&utm_medium=web']\n",
      "[]\n",
      "['https://www.paycomonline.net/v4/ats/web.php/jobs/ViewJobDetails?job=7386&clientkey=0A2A2B3498A92573DA13BE33E8BDD296']\n",
      "['https://www.pathrise.com/?utm_source=CLSACSWE&utm_campaign=CLSACSWE&utm_medium=web']\n",
      "['https://www.pathrise.com/?utm_source=CLSACSWE&utm_campaign=CLSACSWE&utm_medium=web']\n",
      "[]\n",
      "[]\n"
     ]
    }
   ],
   "source": [
    "\n",
    "for row in craigslist_df['link']:\n",
    "    print(row)"
   ]
  },
  {
   "cell_type": "code",
   "execution_count": 43,
   "metadata": {
    "collapsed": true
   },
   "outputs": [
    {
     "data": {
      "text/plain": [
       "28    None\n",
       "29    None\n",
       "30    None\n",
       "31    None\n",
       "32    None\n",
       "33    None\n",
       "34    None\n",
       "35    None\n",
       "36    None\n",
       "37    None\n",
       "38    None\n",
       "39    None\n",
       "40    None\n",
       "41    None\n",
       "42    None\n",
       "43    None\n",
       "44    None\n",
       "45    None\n",
       "46    None\n",
       "47    None\n",
       "48    None\n",
       "49    None\n",
       "50    None\n",
       "51    None\n",
       "52    None\n",
       "53    None\n",
       "54    None\n",
       "55    None\n",
       "56    None\n",
       "57    None\n",
       "58    None\n",
       "59    None\n",
       "60    None\n",
       "61    None\n",
       "62    None\n",
       "63    None\n",
       "64    None\n",
       "65    None\n",
       "66    None\n",
       "67    None\n",
       "68    None\n",
       "Name: tags, dtype: object"
      ]
     },
     "execution_count": 43,
     "metadata": {},
     "output_type": "execute_result"
    }
   ],
   "source": [
    "def tag_org(row):\n",
    "    listed = row.split('\\n')\n",
    "    try: #listed[2]# ==False:#[0:15] == 'employment type':\n",
    "        pass#return listed[1][17:]\n",
    "    except:\n",
    "        return listed[2]\n",
    "    #return listed[1][17:]#.replace('compensation: ', '')\n",
    "#craigslist_df['time'] = \n",
    "craigslist_df['tags'].map(lambda x: tag_org(x))[28:69]"
   ]
  },
  {
   "cell_type": "code",
   "execution_count": null,
   "metadata": {},
   "outputs": [],
   "source": [
    "lambda x: craigslist_df['tags'][x].split('\\n')[0])\n",
    "for x in column:\n",
    "    x = x.replace"
   ]
  },
  {
   "cell_type": "markdown",
   "metadata": {},
   "source": [
    "# Searching Ventureloop\n",
    "https://www.ventureloop.com/ventureloop/job_search.php"
   ]
  },
  {
   "cell_type": "markdown",
   "metadata": {},
   "source": [
    "# Searching Indeed\n",
    " - One of Ari's top reccomendations\n",
    "https://www.indeed.com/"
   ]
  },
  {
   "cell_type": "code",
   "execution_count": 37,
   "metadata": {},
   "outputs": [],
   "source": [
    "browser = webdriver.Chrome('../Garage/chromedriver')\n",
    "browser.get('https://www.indeed.com/')# Get Search page of Craigslist\n",
    "\n",
    "#search = browser.find_element_by_id(\"query\")                                # Locate searchbar\n",
    "#search.send_keys(term)                                                      # Input search\n",
    "#search.submit() \n",
    "#results = browser.find_elements_by_class_name('result-title')               # List of results"
   ]
  },
  {
   "cell_type": "code",
   "execution_count": 47,
   "metadata": {},
   "outputs": [],
   "source": [
    "sign_in = browser.find_element_by_id(\"text-input-what\")"
   ]
  },
  {
   "cell_type": "code",
   "execution_count": 49,
   "metadata": {},
   "outputs": [],
   "source": [
    "sign_in.send_keys(\"data scientist\")"
   ]
  },
  {
   "cell_type": "code",
   "execution_count": 50,
   "metadata": {},
   "outputs": [],
   "source": [
    "sign_in.submit()"
   ]
  },
  {
   "cell_type": "code",
   "execution_count": 54,
   "metadata": {},
   "outputs": [],
   "source": [
    "browser.find_element_by_xpath('//*[@id=\"SALARY_rbo\"]/ul/li[1]/a').click()"
   ]
  },
  {
   "cell_type": "code",
   "execution_count": null,
   "metadata": {},
   "outputs": [],
   "source": [
    "indeed_url_1 = 'https://www.indeed.com/jobs?q=data+scientist+$80,000&l=Oakland,+CA&rbl=San+Francisco,+CA&jlid=6cf5e6d389fd6d6b&explvl=entry_level'\n",
    "indeed_url_2 = 'https://www.indeed.com/jobs?q=data+analyst+$80,000&l=Oakland,+CA&rbl=San+Francisco,+CA&jlid=6cf5e6d389fd6d6b&explvl=entry_level'"
   ]
  },
  {
   "cell_type": "code",
   "execution_count": 71,
   "metadata": {},
   "outputs": [
    {
     "data": {
      "text/plain": [
       "0"
      ]
     },
     "execution_count": 71,
     "metadata": {},
     "output_type": "execute_result"
    }
   ],
   "source": [
    "len([i for i in browser.find_elements_by_class_name(\"turnstileLink\") if r'=\\d' in i.get_attribute('href')])"
   ]
  },
  {
   "cell_type": "code",
   "execution_count": 64,
   "metadata": {},
   "outputs": [
    {
     "name": "stdout",
     "output_type": "stream",
     "text": [
      "31\n",
      "------------\n",
      "Security Analyst\n",
      "https://www.indeed.com/pagead/clk?mo=r&ad=-6NYlbfkN0D3UvD5kBSgX9r9tFJCI4OL-41vvae__bcle4uMSq30h36AcPbHjl9bcVWQE4zSRT4Kea7tbZ9xVc5H1TR7taI7MsIHqEo9VUQEGW8-GAKeGYzNKsWbyT6TKfeNwALuAb_yH5UMfENMih5Q0jRBkuLpqZDYzbtWmiUUSv5K02ba-KofgRR3daoZGLtEUt5Bf6EgIDCo5ptNm0dutXmuf7LguPeLp7j8lqD8vVh8cwGQWFmlDrW5joyRs9ck50yA6qu-p64T4vRQ0-kbYMkS9f9zhBUEgxlY2iDdqQ-n1YnaeaD8ZmOaDmf7w_nu3UVWLClCxEKIO-dHiWEs4xSOnX5nNNepqlC4veruew-TjjCe7Men7mjF6JtUFlEWT4aZW25f0sCwpq5Jxj03m4G5MkNHKKCPwopRg9HicnrLZZW3xHy9P9s7WFXs15KPNfl-3WHGP45iLwf0uEfpvWFobo_dZrpHejqzcqqrzvycpn_EWSFGfHr8_hXgF8qGgUFeFuich0EsjYIyRSrKmC3RNJ8KtRpf1T7L5u4=&vjs=3&p=1&sk=&fvj=0&tk=1cvs1gkutbqgp803&jsa=3165\n",
      "------------\n",
      "Business Data/Analytics Consultant(DBA5)\n",
      "https://www.indeed.com/pagead/clk?mo=r&ad=-6NYlbfkN0BoeDkTD_H99wsrPbGl8S8R9VezjVunTmvy3hNmICbxwttyQcywGqavB3biN5gVUe_DLQZOyReRaQ8-u3JjaTnXdSB5b3jKUhMfg2VrT6BAhYq_GwjWx9zwd0gHMMwc7RMy67b0pfXyzRzEsavzMFVyMphm__8Gx7Hkbb78_SeZ2iGg1UwNdFBTvyC1v9tgSnLLtrjiGxofIHJWqiZb1BlvtOFV0h8iwxN6dGHK_8QZ9zso0CswyC_-PdYGKnMQxtWqAJYHyz1P9Kf95QgutuTexb7_3TqAoijo1wNF8gojhm7D-Sy9_SlmTU_1b0Gk4CAhVF21VbyXGBdIurQSn1wXrNic0Z0XBHEl9cUJDSk7SpMk6CVWUoeHaMQOyPx0i8P-8-sO6sJhGrzSKvjTecmGG53eaw4BM8nXXbICNNxTVaycbrhmbf623Xmwu0GgVN5fA8n3tMSOrn_3QOqTlG_i&vjs=3&p=2&sk=&fvj=0&tk=1cvs1gkutbqgp803&jsa=3165\n",
      "------------\n",
      "ATR International, Inc.\n",
      "https://www.indeed.com/cmp/Atr-International,-Inc.\n",
      "------------\n",
      "36 reviews\n",
      "https://www.indeed.com/cmp/Atr-International,-Inc./reviews?campaignid=cmplinktst2&from=SERP&jt=Business+Data%5C%2FAnalytics+Consultant%28DBA5%29&fromjk=e8112e6754b5c0ff&jcid=3ac765140903218f\n",
      "------------\n",
      "Distributor Strategy Analyst\n",
      "https://www.indeed.com/pagead/clk?mo=r&ad=-6NYlbfkN0DElm3MIjlUSFLEFbpoE0cvkGwakGKRqLG0cDk9bPXCRz_cIwU4j3XX8iic71yr8ysmzrOEhDMUCanRkEl5N8SmLSiCoF0UuDFOTlq6NOtI-epkTXxD_qc4Sh7YBWqznfAp4DU023IJbUTjqqIKx5xlGVavL6GkhH0aalb4eXPV7jBUqiFpcM9B9Zk7RH4r7HsAe-bQ2Bi4bvr3e9_MRLlHQl21HX-rC05KEpxY35dpfHpUEc-v_MD8QlRI_JsajUsxHq8Ys7No7ax_8h9k9NUf0u7pYA6IwecioC1BVINHU45Cj9vGkCW41e9fvlabYPAT2VShL38eVYShT6cahuooSyDn4HO6F1JYG-OiShsV7X-KBZUcFqN5ny1SxexqPzfVO5ynzIV7QvhSJh4o-Ht1wyRZduc4kMOeI5I-_tet8PoosEqPnNjJLwgOEZ18zl_Pq8d8ct05Ta-gUpNyoo1U&vjs=3&p=3&sk=&fvj=0\n",
      "------------\n",
      "Constellation Brands\n",
      "https://www.indeed.com/cmp/Constellation-Brands\n",
      "------------\n",
      "165 reviews\n",
      "https://www.indeed.com/cmp/Constellation-Brands/reviews\n",
      "------------\n",
      "Sales Development Representative\n",
      "https://www.indeed.com/pagead/clk?mo=r&ad=-6NYlbfkN0AA2D8ancNxGAv5gHOd7xGplDSD410oMH8hBPRYRsgnxNvJahmVPmbPXeUXOMTKaUR54Y_ehD_76eDUAg_1045nqw3k49_e1v9ROdLTbILSEfBa8JhMr7KSBKAFQMDCTM8xMqdD_F3b917L3A-VkhoHg_S_9PNkW6L9w3CqkZ828VXbz9O3pA1fdVIsHk1-lm1oa1NK1hDAUUeL3mcHKmbjS9U9yk-6wYbvJGR586_zrFQ9EMgf3sfPm1JIHZukhyQAQjdLDDdMZ_d6ZNcxUZfDPD2PuciRDbxVBBqiaHd25F2C3GV3irCBm0IeJlSjfW78HEAWFv1QvwDyOg1i--PQ3B13LeascG3EixQkSW3IJYvmq7aRdu4XA93cmWm8zEyIAcq8e95m4PDsLgB497D7rL8rFWChm_OOoEtfH21tEBLsCUik91gAhpjCGcer9Jh_s4Q4jR2oWcWaeQ1VHa-w4FBIhLQCj_Y0sx6PsFcnli9ZVkdtyTgnkV4Z7F1aoNvgFpENrjsWtPF2acMnD1E2IocjWxo7ih-OYVHrYs6qMw==&vjs=3&p=4&sk=&fvj=0\n",
      "------------\n",
      "Research Data Analyst\n",
      "https://www.indeed.com/rc/clk?jk=f68f83d61fce3a83&fccid=2a341562d64c7cdb&vjs=3\n",
      "------------\n",
      "380 reviews\n",
      "https://www.indeed.com/cmp/University-of-California---SAN-Francisco/reviews\n",
      "------------\n",
      "Strategic Finance Data Analyst\n",
      "https://www.indeed.com/rc/clk?jk=f007a7a35d0179d8&fccid=8510f9bc3a085f8e&vjs=3\n",
      "------------\n",
      "27 reviews\n",
      "https://www.indeed.com/cmp/Dropbox/reviews\n",
      "------------\n",
      "Data Analyst / Scientist [Full-time or intern)]\n",
      "https://www.indeed.com/rc/clk?jk=c082ac9af5f83d12&fccid=d20eb56c8249d2ea&vjs=3\n",
      "------------\n",
      "Associate Analyst\n",
      "https://www.indeed.com/rc/clk?jk=99615a9ef900d37c&fccid=a5aed56af9f8dca9&vjs=3\n",
      "------------\n",
      "26 reviews\n",
      "https://www.indeed.com/cmp/Judicial-Council-of-California/reviews\n",
      "------------\n",
      "Business Intelligence Analyst\n",
      "https://www.indeed.com/rc/clk?jk=cc0bbd8d04cdb77e&fccid=f89deb5a97c7738a&vjs=3\n",
      "------------\n",
      "493 reviews\n",
      "https://www.indeed.com/cmp/Adobe/reviews\n",
      "------------\n",
      "Data Scientist\n",
      "https://www.indeed.com/rc/clk?jk=891c5ae5d3a7f7d3&fccid=2472edbe03e34796&vjs=3\n",
      "------------\n",
      "5 reviews\n",
      "https://www.indeed.com/cmp/Bolt/reviews\n",
      "------------\n",
      "Data Analyst\n",
      "https://www.indeed.com/rc/clk?jk=9c2c2b341ff58c84&fccid=e5b6b3bcf1a25114&vjs=3\n",
      "------------\n",
      "8 reviews\n",
      "https://www.indeed.com/cmp/Hoteltonight/reviews\n",
      "------------\n",
      "Business Data Analyst\n",
      "https://www.indeed.com/rc/clk?jk=7d18f05ea69552df&fccid=22d78e2095e9cf1a&vjs=3\n",
      "------------\n",
      "30 reviews\n",
      "https://www.indeed.com/cmp/Squaretrade/reviews\n",
      "------------\n",
      "Analyst, Data Scientist - Brighterion\n",
      "https://www.indeed.com/rc/clk?jk=80cc221986fbcd97&fccid=5da8ce8509b876cc&vjs=3\n",
      "------------\n",
      "24 reviews\n",
      "https://www.indeed.com/cmp/Brighterion/reviews\n",
      "------------\n",
      "Data Scientist\n",
      "https://www.indeed.com/rc/clk?jk=20b0aca7feb12498&fccid=25cda752a689f9b8&vjs=3\n",
      "------------\n",
      "307 reviews\n",
      "https://www.indeed.com/cmp/Esurance/reviews\n",
      "------------\n",
      "Analyst, Valuation Services\n",
      "https://www.indeed.com/pagead/clk?mo=r&ad=-6NYlbfkN0Dys7GhibF6Q9-lO7uuJ_sA_RJawJ0yQMZxksOn_UXT6UR6l6nYb47OSQ7745hTm0g0CbqKZzMBqwjwFjO2B_PLlTvW3WIO5mEZ1ABfD8qky8617KFp8lzaIcI-NvKWzLzWmdaE1Vg0ZS3lyJmNkJHhU0mUO-3g6tGBBgElqZCcRTVeB4EZRItoNMIp6iMdmBxp6HI6hcg_uch-fHMgk2k1FVfM78mMxslShtibD6-CQtjn2UKj5-binyFZHFaX8l7cM5-5o1JR0o-nQtmVJAw4jYZQLLQusMJdX-60tu3gglLOJ_X9O-El5Kg970smbuZimo7aXv5eiPXWWMD4YNnlHvrN1sHF7bDPJHKlQ5BtRPIOFpNfnXw8lg5yZiELMtP3Tj-fbyeO12C8sX2igPMTRynpikcqvZVJJZaA3UTqLXOakjXNj1OnFRpbBETFxlrcCgJHEgU3aavWlfhqPqWBc8fgQvG_Y1_EsarSBhRl0LSm-7y25coLuD6wOMS21f17xo47PN0UGrG39VSrjqK9I9qel6lUnJDriinRDwPFJOf5IHrH8yHfiqgVKvzEElV-St7g9SsJxr6ZMskTorU_Tzp1mJuRBOhAH9LfyNbPdOb8y4kFTqx5p4Lqp65BO8aR_a95pz72v66cdK4G70Wn9F4IVtS9brr4HV-u6Lb5XSF_nlGbPQPoMvQ0E17UNurpp-TwTLEHTy1yzgNQtZxwounEeEDaLfCzQPNHyKII6M0VtbYWandGReWC_b6oU4tM9qEPnB6AIFQ-0aeZF7S_r9jLiYYYNNqE05bdW2O3tyoF3O24Hmx8MKkX0a440iwjNQiN0uitxmR9hJf_QYxpSaL3v7fDSDbnNgkDx5Vq6VPqFsY9w49twSDVgKEfkUqFnDElFUAo7jYkunOtt5W9-9bLNDELumbgFNVY63vSZ0iWSAcbxpnBjJY2gAh2Rzqh0wXJ9DdBuzmBkxwODbhnL78LGOqwrJQ=&vjs=3&p=5&sk=&fvj=0\n",
      "------------\n",
      "DUFF AND PHELPS, LLC\n",
      "https://www.indeed.com/cmp/Duff-&-Phelps\n",
      "------------\n",
      "60 reviews\n",
      "https://www.indeed.com/cmp/Duff-&-Phelps/reviews\n",
      "------------\n",
      "Data Analyst – ChatBOT, Artificial Intelligence - 30879D\n",
      "https://www.indeed.com/pagead/clk?mo=r&ad=-6NYlbfkN0CD7B5JfRXwrS5u7vDn9tMfVX7MpTnOLmEhLa-oOxyH7BvwHI3HacQ8t4LPaSHt3yJy1x4Je8u7ao4PfiZqhb9W3ySUPv6NZU7JCtJGxgSNXmgCPzQ1ywuSa6tIzmcA_wDixIr3k6FB5gwHx4BZ8UTf0EQCJSHCIKLSdcfBrKfhi-Dd_ja3gLhESVt5ifZCgEGA10d1gjwZcwi5NlBCB5ksp-OcDRSpHCwQFqnqjhY0jakVUs_2YBNiLIQw8c4zKzf_gEbNrC-6Q3irMxnegwx_OtkP0GFXog-X8cZ7d_eE3Wh2iDrbXWrdV98nUQ2b0JyKsJEiumnHJLRdEnl7cskTIYfxpqpUTfx7rJC2Q6svXJDZvapy9l3xAf9UQGLxcAjqXPMuOo8Bpqi7xvXdMsOAM0JosZG3NqPDUWl6N2DXLjKUmbafLGvXZZIlL4abfXxmJfTjqnbpa6oP1WD7FDvvSMYuM2SezMHWJWvb8flRgw==&vjs=3&p=6&sk=&fvj=1&tk=1cvs1gkutbqgp803&jsa=3165\n"
     ]
    }
   ],
   "source": [
    "#postings = [i for i in browser.find_elements_by_class_name(\"turnstileLink\") if ]\n",
    "print(len(browser.find_elements_by_class_name(\"turnstileLink\")))\n",
    "for i in browser.find_elements_by_class_name(\"turnstileLink\"):\n",
    "    #if i.\n",
    "    print(\"------------\")\n",
    "    print(i.text)\n",
    "    print(i.get_attribute('href'))"
   ]
  },
  {
   "cell_type": "code",
   "execution_count": 18,
   "metadata": {},
   "outputs": [],
   "source": [
    "search_terms = ['data', 'analyst', 'data scientist']\n",
    "list_of_dicts = []\n",
    "obtained_posts = []\n",
    "all_raw_info = []\n",
    "\n",
    "browser = webdriver.Chrome('../Garage/chromedriver')                     # Launches Browser\n",
    "for term in search_terms:\n",
    "    browser.get('https://sfbay.craigslist.org/d/software-qa-dba-etc/search/sof')# Get Search page of Craigslist\n",
    "    search = browser.find_element_by_id(\"query\")                                # Locate searchbar\n",
    "    search.send_keys(term)                                                      # Input search\n",
    "    search.submit() \n",
    "    results = browser.find_elements_by_class_name('result-title')               # List of results\n",
    "    for i in range(len(results)):                                               # for # of pages in list\n",
    "        results[i].click()                                                      # Click on Title i\n",
    "        post_HTML = browser.page_source\n",
    "        body_text = browser.find_element_by_id('postingbody').text\n",
    "        coordinates = re.findall('itude=\"[-0-9.]+\"', post_HTML)\n",
    "        post_code = re.findall('\\/[0-9]+\\.html', post_HTML)[0][1:-5]\n",
    "        if post_code not in obtained_posts:\n",
    "            post_dict = {\n",
    "                \"title\"     : browser.find_element_by_id('titletextonly').text,\n",
    "                \"body_text\" : body_text,\n",
    "                \"link\"      : re.findall('https[-A-za-z:\\/.0-9?=&;]+', body_text),\n",
    "                \"tags\"      : browser.find_element_by_class_name('attrgroup').text,\n",
    "                \"post_code\" : post_code\n",
    "            }\n",
    "            try:\n",
    "                post_dict[\"latitude\"]  = coordinates[0][7:-1]\n",
    "                post_dict[\"longitude\"] = coordinates[1][7:-1]\n",
    "            except:\n",
    "                pass\n",
    "            obtained_posts.append(post_dict['post_code'])\n",
    "            all_raw_info.append(post_HTML)\n",
    "            list_of_dicts.append(post_dict)\n",
    "        browser.back()                                            # Back\n",
    "        results = browser.find_elements_by_class_name('result-title')\n",
    "\n",
    "craigslist_df = pd.DataFrame(list_of_dicts, columns = [\n",
    "            \"title\", \"body_text\", \"tags\", \"link\",\n",
    "            \"latitude\", \"longitude\", \"post_code\"])"
   ]
  },
  {
   "cell_type": "markdown",
   "metadata": {},
   "source": [
    "# Searching Upwork\n",
    "- Specifically for contract work"
   ]
  },
  {
   "cell_type": "markdown",
   "metadata": {},
   "source": [
    "# Searching Idealist\n",
    " - great for non-profits\n",
    " - https://www.idealist.org/en/?q=job&radius=160000&sort=relevance&type=JOB"
   ]
  },
  {
   "cell_type": "markdown",
   "metadata": {},
   "source": [
    "# Searching Glassdoor\n",
    " - Can come with salary research\n",
    " - https://www.glassdoor.com/index.htm"
   ]
  },
  {
   "cell_type": "markdown",
   "metadata": {},
   "source": [
    "# Searching Dice\n",
    " - Good for technical roles/jobs\n",
    "https://www.dice.com/"
   ]
  },
  {
   "cell_type": "markdown",
   "metadata": {},
   "source": [
    "# Searching Monster\n",
    "https://www.monster.com/"
   ]
  },
  {
   "cell_type": "markdown",
   "metadata": {},
   "source": [
    "# Searching Remote OK\n",
    " - Remote Job focus\n",
    "https://remoteok.io/"
   ]
  },
  {
   "cell_type": "markdown",
   "metadata": {},
   "source": [
    "# Searching We Work Remotely\n",
    " - Remote Job Focus\n",
    "https://weworkremotely.com/"
   ]
  },
  {
   "cell_type": "code",
   "execution_count": null,
   "metadata": {},
   "outputs": [],
   "source": []
  },
  {
   "cell_type": "code",
   "execution_count": null,
   "metadata": {},
   "outputs": [],
   "source": []
  },
  {
   "cell_type": "code",
   "execution_count": 18,
   "metadata": {},
   "outputs": [],
   "source": [
    "search_terms = ['data', 'analyst']\n",
    "list_of_dicts = []\n",
    "obtained_posts = []\n",
    "all_raw_info = []\n",
    "\n",
    "browser = webdriver.Chrome('../Garage/chromedriver')                     # Launches Browser\n",
    "for term in search_terms:\n",
    "    browser.get('https://sfbay.craigslist.org/d/software-qa-dba-etc/search/sof')# Get Search page of Craigslist\n",
    "    search = browser.find_element_by_id(\"query\")                                # Locate searchbar\n",
    "    search.send_keys(term)                                                      # Input search\n",
    "    search.submit() \n",
    "    results = browser.find_elements_by_class_name('result-title')               # List of results\n",
    "    for i in range(len(results)):                                               # for # of pages in list\n",
    "        results[i].click()                                                      # Click on Title i\n",
    "        post_HTML = browser.page_source\n",
    "        body_text = browser.find_element_by_id('postingbody').text\n",
    "        coordinates = re.findall('itude=\"[-0-9.]+\"', post_HTML)\n",
    "        post_code = re.findall('\\/[0-9]+\\.html', post_HTML)[0][1:-5]\n",
    "        if post_code not in obtained_posts:\n",
    "            post_dict = {\n",
    "                \"title\"     : browser.find_element_by_id('titletextonly').text,\n",
    "                \"body_text\" : body_text,\n",
    "                \"link\"      : re.findall('https[-A-za-z:\\/.0-9?=&;]+', body_text),\n",
    "                \"tags\"      : browser.find_element_by_class_name('attrgroup').text,\n",
    "                \"post_code\" : post_code\n",
    "            }\n",
    "            try:\n",
    "                post_dict[\"latitude\"]  = coordinates[0][7:-1]\n",
    "                post_dict[\"longitude\"] = coordinates[1][7:-1]\n",
    "            except:\n",
    "                pass\n",
    "            obtained_posts.append(post_dict['post_code'])\n",
    "            all_raw_info.append(post_HTML)\n",
    "            list_of_dicts.append(post_dict)\n",
    "        browser.back()                                            # Back\n",
    "        results = browser.find_elements_by_class_name('result-title')\n",
    "\n",
    "craigslist_df = pd.DataFrame(list_of_dicts, columns = [\n",
    "            \"title\", \"body_text\", \"tags\", \"link\",\n",
    "            \"latitude\", \"longitude\", \"post_code\"])"
   ]
  },
  {
   "cell_type": "code",
   "execution_count": null,
   "metadata": {},
   "outputs": [],
   "source": []
  },
  {
   "cell_type": "code",
   "execution_count": null,
   "metadata": {},
   "outputs": [],
   "source": []
  },
  {
   "cell_type": "code",
   "execution_count": null,
   "metadata": {},
   "outputs": [],
   "source": []
  },
  {
   "cell_type": "code",
   "execution_count": null,
   "metadata": {},
   "outputs": [],
   "source": []
  },
  {
   "cell_type": "code",
   "execution_count": null,
   "metadata": {},
   "outputs": [],
   "source": []
  },
  {
   "cell_type": "code",
   "execution_count": null,
   "metadata": {},
   "outputs": [],
   "source": []
  },
  {
   "cell_type": "code",
   "execution_count": null,
   "metadata": {},
   "outputs": [],
   "source": []
  },
  {
   "cell_type": "code",
   "execution_count": null,
   "metadata": {},
   "outputs": [],
   "source": []
  },
  {
   "cell_type": "markdown",
   "metadata": {},
   "source": [
    "## Data Collection"
   ]
  },
  {
   "cell_type": "code",
   "execution_count": null,
   "metadata": {},
   "outputs": [],
   "source": []
  },
  {
   "cell_type": "code",
   "execution_count": null,
   "metadata": {},
   "outputs": [],
   "source": []
  },
  {
   "cell_type": "code",
   "execution_count": null,
   "metadata": {},
   "outputs": [],
   "source": []
  },
  {
   "cell_type": "markdown",
   "metadata": {},
   "source": [
    "# "
   ]
  },
  {
   "cell_type": "code",
   "execution_count": null,
   "metadata": {},
   "outputs": [],
   "source": [
    "def meta_answer(search_question)\n",
    "    browser.get('www.google.com')# Get Search page of Craigslist\n",
    "    search = browser.find_element_by_id(\"q\")                                # Locate searchbar\n",
    "    search.send_keys(search_question)                                                    # Input search\n",
    "    search.submit()\n",
    "    headers = browser.find_elements_by_css_selector('h3')               # List of title elements\n",
    "urls = browser.find_elements_by_css_selector('cite')                # List of urls\n",
    "\n",
    "# This is to attempt linning up the start of the h3's with the site links properly\n",
    "nonlinks = len(headers) - len(urls)                                 \n",
    "print('nonlinks:' + str(nonlinks))\n",
    "if nonlinks > 0:\n",
    "    for fixes in range(nonlinks):\n",
    "        [\"no attached URL \" + str(fixes)] + urls\n",
    "    print('headers: ', len(headers),' URLs: ', len(urls))"
   ]
  },
  {
   "cell_type": "code",
   "execution_count": 70,
   "metadata": {},
   "outputs": [],
   "source": [
    "from sklearn.feature_extraction.text import CountVectorizer#, TfidfVectorizer\n",
    "from nltk.tokenize import RegexpTokenizer, word_tokenize\n",
    "tokenizer = RegexpTokenizer(r'\\w+')\n",
    "\n",
    "def preprocess(text):\n",
    "    text = re.sub(r'[^a-zA-Z]',' ', text.lower())\n",
    "    tokens = word_tokenize(text)\n",
    "    lemmer = WordNetLemmatizer()\n",
    "    stop_words = stopwords.words(\"english\")\n",
    "    return \" \".join([lemmer.lemmatize(word) for word in tokens if len(word) > 1 and not word in stop_words])\n",
    "cvec = CountVectorizer(analyzer = \"word\",\n",
    "                       tokenizer = tokenizer.tokenize,\n",
    "                       preprocessor = preprocess,\n",
    "                       stop_words = 'english',\n",
    "                       min_df = 1) # This can be a float representing it's proportion of the documents\n",
    "                       #max_df = None)\n",
    "                       #ngram_range = (min,max),\n",
    "                       #max_features = None) "
   ]
  },
  {
   "cell_type": "code",
   "execution_count": null,
   "metadata": {},
   "outputs": [],
   "source": []
  },
  {
   "cell_type": "markdown",
   "metadata": {},
   "source": [
    "## Initial Viewing and Cleaning"
   ]
  },
  {
   "cell_type": "code",
   "execution_count": null,
   "metadata": {},
   "outputs": [],
   "source": []
  },
  {
   "cell_type": "code",
   "execution_count": null,
   "metadata": {},
   "outputs": [],
   "source": []
  },
  {
   "cell_type": "code",
   "execution_count": null,
   "metadata": {},
   "outputs": [],
   "source": []
  },
  {
   "cell_type": "markdown",
   "metadata": {},
   "source": [
    "## Single Posting Info"
   ]
  },
  {
   "cell_type": "code",
   "execution_count": 1,
   "metadata": {},
   "outputs": [],
   "source": [
    "post = \"\"\"Peerspace is creating a world where it’s easy to bring people together, starting with making it easy to find the perfect place to meet, create, and celebrate with others. Our Airbnb-like marketplace uncovers the world’s most unique spaces - like lofts, rooftops, and art galleries - and makes them ready to use for meetings, events, even filmshoots.\n",
    " \n",
    "Over 1 million people have come together in a Peerspace, and we’re looking for people who want to help us reach the next 10 million.\n",
    " \n",
    "We’re looking for a highly analytical Associate to join our growing Business Operations and Strategy team. BizOPs at Peerpsace is equal parts business strategy, operational improvement, and analytics. You’ll partner with functional leads to continually up-level the way we measure and analyze our performance and act on those insights.\n",
    "\n",
    "The ideal candidate loves data and business analytics, can synthesize complex insights into a simple message, and is very experienced in driving change through a collaborative approach.   \n",
    " \n",
    "Example projects include:\n",
    "-        Customer segmentation and feedback insights\n",
    "-        Modeling of market entry opportunities\n",
    "-        Strategies to scale operations teams\n",
    "-        Customer targeting and growth tactics\n",
    "-        Monthly performance analytics and improvement opportunities\n",
    "\n",
    "Responsibilities:\n",
    "End to end ownership of analytics projects, where you will help translate your insights into action across the business\n",
    "Develop new KPIs and use existing ones to identify, diagnose, and resolve performance issues\n",
    "Ownership over our data, including on-going and ad-hoc analytics/reporting\n",
    "Implement new operations process, and identify what new platform features will help our central functions scale effectively\n",
    "\n",
    "What you bring to the table:\n",
    "·        Bachelor’s degree, preferably in a highly quantitative discipline\n",
    "·        Minimum of 1-2 years of experience in management consulting, investment banking, tech strategy/finance, and/or business operations.\n",
    "·        Strong analytical skills and Excel proficiency\n",
    "·        Strong SQL experience\n",
    "·        Consumer internet experience and interest in e-commerce marketplaces\n",
    "·        Great at creating and analyzing business information, creating dashboards, tracking key business metrics and translating results into actionable deliverables, messages, and presentations\n",
    " \n",
    "Perks\n",
    "·        Join a team reshaping a $500B industry\n",
    "·        Competitive salary with employee stock options and access to a 401k\n",
    "·        Medical, dental, and vision coverage\n",
    "·        Take-it-when-you-need-it vacation and sick days\n",
    "·        A flexible work environment\n",
    "·        Dog-friendly office\n",
    "·        Weekly catered lunch\n",
    "·        $500 annual professional development allowance\n",
    "·        20% discount on all Peerspace bookings\n",
    " \n",
    "About Us:\n",
    "Peerspace is a community marketplace that makes planning gatherings - starting with finding the perfect space - simple. Whether it’s a loft for a party, a rooftop for a film shoot, or an art gallery for a meeting, Peerspace empowers people to create one-of-a-kind experiences at any price point. As a community marketplace, Peerspace makes it easy for individuals and businesses to monetize their underused space and share it with an audience of millions.\n",
    " \n",
    "Founded in April of 2014, Peerspace is headquartered in San Francisco, with offices in Los Angeles, New York, and Chicago. The company’s investors include GV and Foundation Capital.\"\"\""
   ]
  },
  {
   "cell_type": "code",
   "execution_count": null,
   "metadata": {},
   "outputs": [],
   "source": []
  },
  {
   "cell_type": "code",
   "execution_count": null,
   "metadata": {},
   "outputs": [],
   "source": []
  },
  {
   "cell_type": "markdown",
   "metadata": {},
   "source": [
    "## Exploritory Data Analysis"
   ]
  },
  {
   "cell_type": "code",
   "execution_count": null,
   "metadata": {},
   "outputs": [],
   "source": []
  },
  {
   "cell_type": "code",
   "execution_count": null,
   "metadata": {},
   "outputs": [],
   "source": []
  },
  {
   "cell_type": "code",
   "execution_count": null,
   "metadata": {},
   "outputs": [],
   "source": []
  },
  {
   "cell_type": "markdown",
   "metadata": {},
   "source": [
    "## Model Prep"
   ]
  },
  {
   "cell_type": "markdown",
   "metadata": {},
   "source": [
    "### Model Imports & Initiations"
   ]
  },
  {
   "cell_type": "code",
   "execution_count": null,
   "metadata": {},
   "outputs": [],
   "source": []
  },
  {
   "cell_type": "code",
   "execution_count": null,
   "metadata": {},
   "outputs": [],
   "source": []
  },
  {
   "cell_type": "markdown",
   "metadata": {},
   "source": [
    "### Data Prep"
   ]
  },
  {
   "cell_type": "code",
   "execution_count": null,
   "metadata": {},
   "outputs": [],
   "source": [
    "#features = \n",
    "X = df[features]\n",
    "y = df['target']\n",
    "X_train, X_test, y_train, y_test = train_test_split(X, y, \n",
    "                                                    stratify = y)"
   ]
  },
  {
   "cell_type": "code",
   "execution_count": null,
   "metadata": {},
   "outputs": [],
   "source": []
  },
  {
   "cell_type": "markdown",
   "metadata": {},
   "source": [
    "## Initial Model and Results"
   ]
  },
  {
   "cell_type": "code",
   "execution_count": null,
   "metadata": {},
   "outputs": [],
   "source": []
  },
  {
   "cell_type": "code",
   "execution_count": null,
   "metadata": {},
   "outputs": [],
   "source": []
  },
  {
   "cell_type": "code",
   "execution_count": null,
   "metadata": {},
   "outputs": [],
   "source": []
  },
  {
   "cell_type": "markdown",
   "metadata": {},
   "source": [
    "## Model Review & Improvement"
   ]
  },
  {
   "cell_type": "code",
   "execution_count": null,
   "metadata": {},
   "outputs": [],
   "source": [
    "import feedparser\n",
    "import smtplib\n",
    "import re\n",
    "import urllib2\n",
    "import os.path\n",
    "from bs4 import BeautifulSoup\n",
    "import csv\n",
    "import re\n",
    "\n",
    "# Enable an options page that lets you choose whom to send/not to send\n",
    "\n",
    "CSV = 'csv'\n",
    "HTML = 'html'\n",
    "\n",
    "def clean(content):\n",
    "    content = re.sub(r',','#', content)\n",
    "    return re.sub(r\"\\n\", \"\", content)\n",
    "\n",
    "def generateFileName():\n",
    "    ROOT_DIR        = '~'\n",
    "    CSV             = \"CSV/\"\n",
    "    HTML            = 'HTML/'\n",
    "    file_prefix     = 'craigslist_'\n",
    "    file_number     = 1\n",
    "    csv_file_suffix = \".csv\"\n",
    "    html_file_suffix= \".html\"\n",
    "    HTML_FILENAME   = ROOT_DIR + HTML + file_prefix + str(file_number)\n",
    "    CSV_FILENAME    = ROOT_DIR + CSV  + file_prefix + str(file_number)\n",
    "    \n",
    "    # Increment the file number until we find one isn't used\n",
    "    while (os.path.exists(CSV_FILENAME)):\n",
    "        file_number  += 1\n",
    "        HTML_FILENAME = ROOT_DIR + HTML + file_prefix + str(file_number)\n",
    "        CSV_FILENAME  = ROOT_DIR + CSV  + file_prefix + str(file_number)\n",
    "    return {CSV: CSV_FILENAME, HTML: HTML_FILENAME}\n",
    "\n",
    "# EMAIL ADDRESS\n",
    "\n",
    "server = smtplib.SMTP('smtp.gmail.com', 587)\n",
    "server.starttls()\n",
    "server.login(email, emailpwd)\n",
    "server.sendmail(email, email, msg)"
   ]
  },
  {
   "cell_type": "code",
   "execution_count": null,
   "metadata": {},
   "outputs": [],
   "source": []
  },
  {
   "cell_type": "code",
   "execution_count": null,
   "metadata": {},
   "outputs": [],
   "source": []
  },
  {
   "cell_type": "markdown",
   "metadata": {},
   "source": [
    "## Recycling Bin for Code"
   ]
  }
 ],
 "metadata": {
  "kernelspec": {
   "display_name": "Python 3",
   "language": "python",
   "name": "python3"
  },
  "language_info": {
   "codemirror_mode": {
    "name": "ipython",
    "version": 3
   },
   "file_extension": ".py",
   "mimetype": "text/x-python",
   "name": "python",
   "nbconvert_exporter": "python",
   "pygments_lexer": "ipython3",
   "version": "3.7.0"
  }
 },
 "nbformat": 4,
 "nbformat_minor": 2
}
