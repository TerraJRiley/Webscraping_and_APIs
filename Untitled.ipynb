{
 "cells": [
  {
   "cell_type": "code",
   "execution_count": 1,
   "metadata": {},
   "outputs": [],
   "source": [
    "import pandas as pd\n",
    "import numpy as np\n",
    "import matplotlib.pyplot as plt\n",
    "import seaborn as sns\n",
    "%matplotlib inline\n",
    "# Scraping Libraries\n",
    "from bs4 import BeautifulSoup\n",
    "import requests\n",
    "from selenium import webdriver\n",
    "#from selenium.webdriver.chrome.options import Options\n",
    "from time import sleep\n",
    "import re\n",
    "from IPython.core.display import display, HTML"
   ]
  },
  {
   "cell_type": "code",
   "execution_count": null,
   "metadata": {},
   "outputs": [],
   "source": [
    "requests.get()"
   ]
  },
  {
   "cell_type": "code",
   "execution_count": null,
   "metadata": {},
   "outputs": [],
   "source": [
    "def Loop(CSS_Selector, HTML):\n",
    "    "
   ]
  },
  {
   "cell_type": "code",
   "execution_count": null,
   "metadata": {},
   "outputs": [],
   "source": [
    "class Class(object):\n",
    "    \"Discription of the class\"\n",
    "\n",
    "    def __init__(self, required_arg, stated_arg = 0.0): # Happens at initialization\n",
    "        \"\"\"Happens at initialization.  \n",
    "        This appears in the class description.\"\"\"\n",
    "        self.value_1 = required_arg                     # Required to be stated value\n",
    "        self.value_2 = stated_arg                       # Optional because stated argument\n",
    "        return\n",
    "    \n",
    "    def __repr__(self):\n",
    "        'Evaluable string representation.'\n",
    "        return\n",
    "    \n",
    "    def __str__(self):\n",
    "        'Prints description of the class.'\n",
    "        return\n",
    "    \n",
    "    def __cmp__ (self, x):\n",
    "        'Object comparison.'\n",
    "        return\n",
    "    \n",
    "    def regular_function(self, arg):\n",
    "        \"Appears in function description\"\n",
    "        if arg > self.balance:\n",
    "            raise RuntimeError('Amount > balance.')     # Error check\n",
    "        self.value_2 -= arg                             # Resaves self.value_2\n",
    "        return self.value_2                             # Returns/states value_2\n",
    "        \n",
    "    def __del__(self):\n",
    "        'Destructor; deletes an object.'\n",
    "        return"
   ]
  },
  {
   "cell_type": "code",
   "execution_count": 2,
   "metadata": {},
   "outputs": [],
   "source": [
    "class Character(object):\n",
    "    \"This is a test class to better get gud with the class function in python\"\n",
    "    def __init__(self, name, species = 'Human'):\n",
    "        self.name = name\n",
    "        self.job  = 'Fighter'"
   ]
  },
  {
   "cell_type": "code",
   "execution_count": 5,
   "metadata": {},
   "outputs": [],
   "source": [
    "Riley = Character('Riley')"
   ]
  },
  {
   "cell_type": "code",
   "execution_count": 6,
   "metadata": {},
   "outputs": [
    {
     "data": {
      "text/plain": [
       "<__main__.Character at 0x1a1eea4780>"
      ]
     },
     "execution_count": 6,
     "metadata": {},
     "output_type": "execute_result"
    }
   ],
   "source": [
    "Riley"
   ]
  },
  {
   "cell_type": "code",
   "execution_count": 7,
   "metadata": {},
   "outputs": [
    {
     "data": {
      "text/plain": [
       "'Fighter'"
      ]
     },
     "execution_count": 7,
     "metadata": {},
     "output_type": "execute_result"
    }
   ],
   "source": [
    "Riley.job"
   ]
  },
  {
   "cell_type": "code",
   "execution_count": 8,
   "metadata": {},
   "outputs": [],
   "source": [
    "Riley.job = \"Buttstuff\""
   ]
  },
  {
   "cell_type": "code",
   "execution_count": 9,
   "metadata": {},
   "outputs": [
    {
     "data": {
      "text/plain": [
       "'Buttstuff'"
      ]
     },
     "execution_count": 9,
     "metadata": {},
     "output_type": "execute_result"
    }
   ],
   "source": [
    "Riley.job"
   ]
  },
  {
   "cell_type": "code",
   "execution_count": 10,
   "metadata": {},
   "outputs": [],
   "source": [
    "Riley.new_thing = \"It worked!\""
   ]
  },
  {
   "cell_type": "code",
   "execution_count": 11,
   "metadata": {},
   "outputs": [
    {
     "data": {
      "text/plain": [
       "'It worked!'"
      ]
     },
     "execution_count": 11,
     "metadata": {},
     "output_type": "execute_result"
    }
   ],
   "source": [
    "Riley.new_thing"
   ]
  },
  {
   "cell_type": "code",
   "execution_count": 12,
   "metadata": {},
   "outputs": [],
   "source": [
    "from keras.models import Sequential"
   ]
  },
  {
   "cell_type": "code",
   "execution_count": null,
   "metadata": {},
   "outputs": [],
   "source": [
    "MLPC"
   ]
  }
 ],
 "metadata": {
  "kernelspec": {
   "display_name": "Python 3",
   "language": "python",
   "name": "python3"
  },
  "language_info": {
   "codemirror_mode": {
    "name": "ipython",
    "version": 3
   },
   "file_extension": ".py",
   "mimetype": "text/x-python",
   "name": "python",
   "nbconvert_exporter": "python",
   "pygments_lexer": "ipython3",
   "version": "3.7.0"
  }
 },
 "nbformat": 4,
 "nbformat_minor": 2
}
